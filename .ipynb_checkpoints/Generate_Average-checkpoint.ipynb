{
 "cells": [
  {
   "cell_type": "markdown",
   "metadata": {
    "id": "ZV6ym8OBQbE8"
   },
   "source": [
    "# Configure Pipeline Directory Settings\n",
    "You must configure the settings before running the encoder pipeline. Paths are already relative to \"/content/drive/My Drive/\", so only include the path from your Google Drive root. (dir_img = test_1 : The test_1 folder in the root of your Drive)\n",
    "\n",
    "1.   **dir_encoder:** The directory which contains, or will contain, the StyleGAN encoder. Code will automatically be pulled from the repository if the directory doesn't exist.\n",
    "2.   **dir_img:** The target directory containing valid image files. Pipeline will automatically generate the sub-directories.\n",
    "3.   **pretrain_model:** Runs train_resnet.py to train model from scratch. Disable for faster results.\n",
    "\n",
    "When you have the raw images in the dir_img directory and you are ready, select **\"Runtime > Run all (Ctrl+F9)\"**. You will need to login to your Drive account and provide a key for Block 3 (copy / paste)\n"
   ]
  },
  {
   "cell_type": "code",
   "execution_count": 1,
   "metadata": {
    "id": "zekUxJCzoS6t"
   },
   "outputs": [],
   "source": [
    "# Backend Settings\n",
    "generator_url = \"https://average-face-datasets.s3.amazonaws.com/generate_average.py\"\n",
    "model_url = \"https://average-face-datasets.s3.amazonaws.com/finetuned_resnet.h5\"\n",
    "repo_url = \"https://github.com/SirTangent/stylegan-encoder.git\"\n",
    "\n",
    "# Main Settings\n",
    "dir_encoder = \"./\" #@param {type:\"string\"}\n",
    "dir_img = \"images-raw\" #@param {type:\"string\"}\n",
    "pretrain_model = False #@param {type:\"boolean\"}\n",
    "\n",
    "# Parsing\n",
    "gdrive_root = \"\"\n",
    "dir_encoder = gdrive_root + dir_encoder\n",
    "dir_img = gdrive_root + dir_img\n",
    "\n",
    "_repo_url = '\"' + repo_url + '\"'\n",
    "_dir_encoder = '\"' + dir_encoder + '\"'\n",
    "_dir_img = '\"' + dir_img + '\"'\n",
    "_model_url = '\"' + model_url + '\"'"
   ]
  },
  {
   "cell_type": "code",
   "execution_count": 3,
   "metadata": {
    "id": "JmRGO3PIRzTT"
   },
   "outputs": [],
   "source": [
    "# Encoder Bootloader\n",
    "import os\n",
    "from os import path\n",
    "\n",
    "if not path.isdir(dir_encoder):\n",
    "  print(\"Encoder directory not found, cloning master repository...\")\n",
    "  !git clone $_repo_url $_dir_encoder"
   ]
  },
  {
   "cell_type": "code",
   "execution_count": null,
   "metadata": {
    "pycharm": {
     "name": "#%%\n"
    }
   },
   "outputs": [],
   "source": [
    "!python script_fetch.py $generator_url"
   ]
  },
  {
   "cell_type": "code",
   "execution_count": null,
   "metadata": {},
   "outputs": [],
   "source": [
    "cd $dir_encoder"
   ]
  },
  {
   "cell_type": "markdown",
   "metadata": {},
   "source": [
    "# Start Encoder Pipeline"
   ]
  },
  {
   "cell_type": "code",
   "execution_count": null,
   "metadata": {
    "collapsed": false,
    "jupyter": {
     "outputs_hidden": false
    },
    "pycharm": {
     "name": "#%%\n"
    }
   },
   "outputs": [],
   "source": [
    "if pretrain_model:\n",
    "  !python train_resnet.py --loop 1 --max_patience 1\n",
    "else:\n",
    "  !python script_fetch.py $model_url --out data/finetuned_resnet.h5"
   ]
  },
  {
   "cell_type": "code",
   "execution_count": null,
   "metadata": {},
   "outputs": [],
   "source": [
    "!python align_images.py $_dir_img $_dir_img/images-aligned"
   ]
  },
  {
   "cell_type": "code",
   "execution_count": null,
   "metadata": {
    "id": "Vj0EYTPF-Gum"
   },
   "outputs": [],
   "source": [
    "!python encode_images.py --batch_size=1 --output_video=False $_dir_img/images-aligned $_dir_img/images-generated/ $_dir_img/images-latent"
   ]
  },
  {
   "cell_type": "code",
   "execution_count": null,
   "metadata": {},
   "outputs": [],
   "source": [
    "!python generate_average.py $_dir_img/images-latent --dst_dir $_dir_img/images-average --name=out"
   ]
  }
 ],
 "metadata": {
  "accelerator": "GPU",
  "colab": {
   "collapsed_sections": [],
   "name": "Generate_Average.ipynb",
   "provenance": []
  },
  "kernelspec": {
   "display_name": "Python 3",
   "language": "python",
   "name": "python3"
  },
  "language_info": {
   "codemirror_mode": {
    "name": "ipython",
    "version": 3
   },
   "file_extension": ".py",
   "mimetype": "text/x-python",
   "name": "python",
   "nbconvert_exporter": "python",
   "pygments_lexer": "ipython3",
   "version": "3.6.12"
  },
  "pycharm": {
   "stem_cell": {
    "cell_type": "raw",
    "metadata": {
     "collapsed": false
    },
    "source": []
   }
  }
 },
 "nbformat": 4,
 "nbformat_minor": 4
}
