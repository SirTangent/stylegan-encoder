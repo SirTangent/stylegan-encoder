{
 "cells": [
  {
   "cell_type": "markdown",
   "metadata": {
    "id": "ZV6ym8OBQbE8"
   },
   "source": [
    "# Configure Pipeline Directory Settings\n",
    "You must configure the settings before running the encoder pipeline. Paths are already relative to \"/content/drive/My Drive/\", so only include the path from your Google Drive root. (dir_img = test_1 : The test_1 folder in the root of your Drive)\n",
    "\n",
    "1.   **dir_encoder:** The directory which contains, or will contain, the StyleGAN encoder. Code will automatically be pulled from the repository if the directory doesn't exist.\n",
    "2.   **dir_img:** The target directory containing valid image files. Pipeline will automatically generate the sub-directories.\n",
    "3.   **pretrain_model:** Runs train_resnet.py to train model from scratch. Disable for faster results.\n",
    "\n",
    "When you have the raw images in the dir_img directory and you are ready, select **\"Runtime > Run all (Ctrl+F9)\"**. You will need to login to your Drive account and provide a key for Block 3 (copy / paste)\n"
   ]
  },
  {
   "cell_type": "code",
   "execution_count": 1,
   "metadata": {
    "id": "zekUxJCzoS6t"
   },
   "outputs": [],
   "source": [
    "# Backend Settings\n",
    "generator_url = \"https://average-face-datasets.s3.amazonaws.com/generate_average.py\"\n",
    "model_url = \"https://average-face-datasets.s3.amazonaws.com/finetuned_resnet.h5\"\n",
    "repo_url = \"https://github.com/SirTangent/stylegan-encoder.git\"\n",
    "\n",
    "# Main Settings\n",
    "dir_encoder = \"build/encoder\" #@param {type:\"string\"}\n",
    "dir_img = \"build/adobe\" #@param {type:\"string\"}\n",
    "pretrain_model = False #@param {type:\"boolean\"}\n",
    "\n",
    "# Parsing\n",
    "gdrive_root = \"\"\n",
    "dir_encoder = gdrive_root + dir_encoder\n",
    "dir_img = gdrive_root + dir_img\n",
    "\n",
    "_repo_url = '\"' + repo_url + '\"'\n",
    "_dir_encoder = '\"' + dir_encoder + '\"'\n",
    "_dir_img = '\"' + dir_img + '\"'\n",
    "_model_url = '\"' + model_url + '\"'"
   ]
  },
  {
   "cell_type": "code",
   "execution_count": 2,
   "metadata": {
    "id": "sR7JRIdbiPaZ"
   },
   "outputs": [
    {
     "name": "stderr",
     "output_type": "stream",
     "text": [
      "UsageError: Line magic function `%tensorflow_version` not found.\n"
     ]
    }
   ],
   "source": [
    "%tensorflow_version 1.x"
   ]
  },
  {
   "cell_type": "code",
   "execution_count": 3,
   "metadata": {
    "id": "YRg4LG8YhzD6"
   },
   "outputs": [
    {
     "name": "stdout",
     "output_type": "stream",
     "text": [
      "Encoder directory not found, cloning master repository...\n"
     ]
    },
    {
     "name": "stderr",
     "output_type": "stream",
     "text": [
      "Cloning into 'build/encoder'...\n"
     ]
    }
   ],
   "source": [
    "# Encoder Bootloader\n",
    "import os\n",
    "from os import path\n",
    "\n",
    "if not path.isdir(dir_encoder):\n",
    "  print(\"Encoder directory not found, cloning master repository...\")\n",
    "  !git clone $_repo_url $_dir_encoder"
   ]
  },
  {
   "cell_type": "code",
   "execution_count": 4,
   "metadata": {
    "id": "JmRGO3PIRzTT"
   },
   "outputs": [
    {
     "name": "stdout",
     "output_type": "stream",
     "text": [
      "C:\\Users\\17818\\source\\repos\\stylegan-encoder\\build\\encoder\n"
     ]
    }
   ],
   "source": [
    "cd $dir_encoder"
   ]
  },
  {
   "cell_type": "code",
   "execution_count": 5,
   "metadata": {
    "id": "Dfd8R12WvT6a"
   },
   "outputs": [
    {
     "name": "stdout",
     "output_type": "stream",
     "text": [
      "generate_average.py not found, downloading...\n",
      "Downloaded generate_average.py from https://average-face-datasets.s3.amazonaws.com/generate_average.py\n"
     ]
    }
   ],
   "source": [
    "!python script_fetch.py $generator_url"
   ]
  },
  {
   "cell_type": "markdown",
   "metadata": {
    "id": "Ij0WUOWMRz-t"
   },
   "source": [
    "# Encoder Pipeline"
   ]
  },
  {
   "cell_type": "code",
   "execution_count": null,
   "metadata": {
    "id": "Gm3aFK-UviUz"
   },
   "outputs": [],
   "source": [
    "if pretrain_model:\n",
    "  !python train_resnet.py --loop 1 --max_patience 1\n",
    "else:\n",
    "  !python script_fetch.py $model_url --out data/finetuned_resnet.h5"
   ]
  },
  {
   "cell_type": "code",
   "execution_count": null,
   "metadata": {
    "id": "EPqXQ8nNoYzG"
   },
   "outputs": [],
   "source": [
    "!python align_images.py $_dir_img $_dir_img/images-aligned"
   ]
  },
  {
   "cell_type": "code",
   "execution_count": null,
   "metadata": {
    "id": "-nRopAgzofnE"
   },
   "outputs": [],
   "source": [
    "!python encode_images.py --batch_size=1 --output_video=False $_dir_img/images-aligned $_dir_img/images-generated/ $_dir_img/images-latent"
   ]
  },
  {
   "cell_type": "code",
   "execution_count": null,
   "metadata": {
    "id": "Vj0EYTPF-Gum"
   },
   "outputs": [],
   "source": [
    "!python generate_average.py $_dir_img/images-latent --dst_dir $_dir_img/images-average --name=out"
   ]
  }
 ],
 "metadata": {
  "accelerator": "GPU",
  "colab": {
   "collapsed_sections": [],
   "name": "Generate_Average.ipynb",
   "provenance": []
  },
  "kernelspec": {
   "display_name": "Python 3",
   "language": "python",
   "name": "python3"
  },
  "language_info": {
   "codemirror_mode": {
    "name": "ipython",
    "version": 3
   },
   "file_extension": ".py",
   "mimetype": "text/x-python",
   "name": "python",
   "nbconvert_exporter": "python",
   "pygments_lexer": "ipython3",
   "version": "3.7.9"
  }
 },
 "nbformat": 4,
 "nbformat_minor": 1
}
