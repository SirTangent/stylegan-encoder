{
 "cells": [
  {
   "cell_type": "markdown",
   "metadata": {
    "id": "ZV6ym8OBQbE8"
   },
   "source": [
    "# Configure Pipeline Directory Settings\n",
    "1.   **dir_root:** The root directory path of the stylegan-encoder. Use the files tab to copy the full path.\n",
    "2.   **dir_img:** The target directory in image-raw to extract source images. Relative path only (Ex: \"test_1\")\n",
    "\n"
   ]
  },
  {
   "cell_type": "code",
   "execution_count": null,
   "metadata": {
    "id": "zekUxJCzoS6t"
   },
   "outputs": [],
   "source": [
    "dir_root = \"build/stylegan-encoder\" #@param {type:\"string\"}\n",
    "dir_img = \"build/nvidia\" #@param {type:\"string\"}"
   ]
  },
  {
   "cell_type": "code",
   "execution_count": null,
   "metadata": {
    "id": "sR7JRIdbiPaZ"
   },
   "outputs": [],
   "source": [
    "%tensorflow_version 1.x"
   ]
  },
  {
   "cell_type": "code",
   "execution_count": null,
   "metadata": {
    "id": "JmRGO3PIRzTT"
   },
   "outputs": [],
   "source": [
    "cd $dir_root"
   ]
  },
  {
   "cell_type": "markdown",
   "metadata": {
    "id": "Ij0WUOWMRz-t"
   },
   "source": [
    "# Encoder Pipeline"
   ]
  },
  {
   "cell_type": "code",
   "execution_count": null,
   "metadata": {
    "id": "eqEHD2nwfJoW"
   },
   "outputs": [],
   "source": [
    "model_url = '\"' + model_url + '\"'\n",
    "!python script_fetch.py \"https://average-face-datasets.s3.amazonaws.com/finetuned_resnet.h5\" --out data/finetuned_resnet.h5\n",
    "!python script_fetch.py $generator_url"
   ]
  },
  {
   "cell_type": "code",
   "execution_count": null,
   "metadata": {
    "id": "EPqXQ8nNoYzG"
   },
   "outputs": [],
   "source": [
    "!python align_images.py images-raw/$dir_img images-aligned/$dir_img"
   ]
  },
  {
   "cell_type": "code",
   "execution_count": null,
   "metadata": {
    "id": "-nRopAgzofnE"
   },
   "outputs": [],
   "source": [
    "!python encode_images.py --batch_size=1 --output_video=False images-aligned/$dir_img images-generated/$dir_img images-latent/$dir_img"
   ]
  },
  {
   "cell_type": "code",
   "execution_count": null,
   "metadata": {
    "id": "Vj0EYTPF-Gum"
   },
   "outputs": [],
   "source": [
    "!python generate_average.py images-latent/$dir_img --name=$dir_img"
   ]
  }
 ],
 "metadata": {
  "accelerator": "GPU",
  "colab": {
   "collapsed_sections": [],
   "name": "Generate_Average.ipynb",
   "provenance": []
  },
  "kernelspec": {
   "display_name": "Python 3",
   "language": "python",
   "name": "python3"
  },
  "language_info": {
   "codemirror_mode": {
    "name": "ipython",
    "version": 3
   },
   "file_extension": ".py",
   "mimetype": "text/x-python",
   "name": "python",
   "nbconvert_exporter": "python",
   "pygments_lexer": "ipython3",
   "version": "3.7.9"
  },
  "pycharm": {
   "stem_cell": {
    "cell_type": "raw",
    "metadata": {
     "collapsed": false
    },
    "source": []
   }
  }
 },
 "nbformat": 4,
 "nbformat_minor": 1
}
