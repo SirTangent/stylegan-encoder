{
  "nbformat": 4,
  "nbformat_minor": 0,
  "metadata": {
    "colab": {
      "name": "avgface_pipeline.ipynb",
      "provenance": [],
      "collapsed_sections": []
    },
    "kernelspec": {
      "name": "python3",
      "display_name": "Python 3"
    },
    "accelerator": "GPU"
  },
  "cells": [
    {
      "cell_type": "markdown",
      "metadata": {
        "id": "ZV6ym8OBQbE8"
      },
      "source": [
        "# Configure Pipeline Directory Settings\n",
        "1.   **dir_root:** The root directory path of the stylegan-encoder. Use the files tab to copy the full path.\n",
        "2.   **dir_img:** The target directory in image-raw to extract source images. Relative path only (Ex: \"test_1\")\n",
        "\n"
      ]
    },
    {
      "cell_type": "code",
      "metadata": {
        "id": "zekUxJCzoS6t"
      },
      "source": [
        "# Settings\n",
        "dir_root = \"/content/drive/My Drive/Encoders/stylegan-encoder\" #@param {type:\"string\"}\n",
        "dir_img = \"test_1\" #@param {type:\"string\"}"
      ],
      "execution_count": null,
      "outputs": []
    },
    {
      "cell_type": "code",
      "metadata": {
        "id": "sR7JRIdbiPaZ"
      },
      "source": [
        "%tensorflow_version 1.x"
      ],
      "execution_count": null,
      "outputs": []
    },
    {
      "cell_type": "code",
      "metadata": {
        "id": "8aEKc2MNoV7K"
      },
      "source": [
        "from google.colab import drive\n",
        "drive.mount('/content/drive', force_remount=True)"
      ],
      "execution_count": null,
      "outputs": []
    },
    {
      "cell_type": "code",
      "metadata": {
        "id": "JmRGO3PIRzTT"
      },
      "source": [
        "cd $dir_root"
      ],
      "execution_count": null,
      "outputs": []
    },
    {
      "cell_type": "markdown",
      "metadata": {
        "id": "Ij0WUOWMRz-t"
      },
      "source": [
        "# Encoder Pipeline"
      ]
    },
    {
      "cell_type": "code",
      "metadata": {
        "id": "EPqXQ8nNoYzG"
      },
      "source": [
        "!python align_images.py images-raw/$dir_img images-aligned/$dir_img"
      ],
      "execution_count": null,
      "outputs": []
    },
    {
      "cell_type": "code",
      "metadata": {
        "id": "-nRopAgzofnE"
      },
      "source": [
        "!python encode_images.py --batch_size=1 --output_video=False images-aligned/$dir_img images-generated/$dir_img images-latent/$dir_img"
      ],
      "execution_count": null,
      "outputs": []
    },
    {
      "cell_type": "code",
      "metadata": {
        "id": "Vj0EYTPF-Gum"
      },
      "source": [
        "!python generate_average.py images-latent/$dir_img --name=$dir_img"
      ],
      "execution_count": null,
      "outputs": []
    }
  ]
}